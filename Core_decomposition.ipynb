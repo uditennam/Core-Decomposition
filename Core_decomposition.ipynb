{
 "cells": [
  {
   "cell_type": "markdown",
   "metadata": {},
   "source": [
    "# Core decomposition"
   ]
  },
  {
   "cell_type": "markdown",
   "metadata": {},
   "source": [
    "### d here is a dictionary with keys as vertices and its values as an array of vertices it connects to."
   ]
  },
  {
   "cell_type": "code",
   "execution_count": 1,
   "metadata": {
    "collapsed": true
   },
   "outputs": [],
   "source": [
    "d = {}\n",
    "with open(\"Workplace/can_citations.txt\",'r') as f:\n",
    "    for line in f.readlines():\n",
    "        line=line.rstrip('\\n')\n",
    "        if line is not '':  # removing null rows\n",
    "            x,y=map(int,line.split(\"\\t\"))  \n",
    "            if x==0 or y==0:\n",
    "                pass\n",
    "            else:\n",
    "                if x not in d.keys():\n",
    "                    d[x] = [y]\n",
    "                else:\n",
    "                    if y not in d[x]:\n",
    "                        d[x].append(y)\n",
    "                if y not in d.keys():\n",
    "                    d[y] = [x]\n",
    "                else:\n",
    "                    if x not in d[y]:\n",
    "                        d[y].append(x)"
   ]
  },
  {
   "cell_type": "code",
   "execution_count": 2,
   "metadata": {},
   "outputs": [
    {
     "data": {
      "text/plain": [
       "1559666"
      ]
     },
     "execution_count": 2,
     "metadata": {},
     "output_type": "execute_result"
    }
   ],
   "source": [
    "len(d.keys()) # Number of vertices"
   ]
  },
  {
   "cell_type": "code",
   "execution_count": 3,
   "metadata": {},
   "outputs": [
    {
     "data": {
      "text/plain": [
       "14474291"
      ]
     },
     "execution_count": 3,
     "metadata": {},
     "output_type": "execute_result"
    }
   ],
   "source": [
    "degree_d = {}\n",
    "for i in d.keys():\n",
    "    degree_d[i] = len(d[i])\n",
    "arr=list(degree_d.values())\n",
    "sum(arr) # Number of edges"
   ]
  },
  {
   "cell_type": "markdown",
   "metadata": {},
   "source": [
    "### Priority queue implementation for finding the cores in the network"
   ]
  },
  {
   "cell_type": "code",
   "execution_count": 4,
   "metadata": {
    "collapsed": true
   },
   "outputs": [],
   "source": [
    "import queue as Q\n",
    "class Node(object):\n",
    "    def __init__(self, node_id, degree):\n",
    "        self.node_id = node_id\n",
    "        self.degree = degree\n",
    "        return\n",
    "    def __lt__(self, other):\n",
    "        return self.degree<other.degree\n",
    "\n",
    "q = Q.PriorityQueue()\n",
    "\n",
    "for i in degree_d.keys():\n",
    "    q.put(Node(i,degree_d[i]))\n",
    "core = {}\n",
    "while not q.empty():\n",
    "    next_level = q.get()\n",
    "    if degree_d[next_level.node_id] != -1:\n",
    "        core[next_level.node_id] = next_level.degree\n",
    "        degree_d[next_level.node_id] = -1\n",
    "        for i in d[next_level.node_id]:\n",
    "            if degree_d[i] > next_level.degree:\n",
    "                degree_d[i] -= 1\n",
    "                q.put(Node(i,degree_d[i]))\n",
    "max = 0\n",
    "for i in core.keys():\n",
    "    if core[i] >max :\n",
    "        max = core[i]"
   ]
  },
  {
   "cell_type": "code",
   "execution_count": 6,
   "metadata": {},
   "outputs": [
    {
     "data": {
      "text/plain": [
       "18"
      ]
     },
     "execution_count": 6,
     "metadata": {},
     "output_type": "execute_result"
    }
   ],
   "source": [
    "max # max core in the network"
   ]
  }
 ],
 "metadata": {
  "kernelspec": {
   "display_name": "Python 3",
   "language": "python",
   "name": "python3"
  },
  "language_info": {
   "codemirror_mode": {
    "name": "ipython",
    "version": 3
   },
   "file_extension": ".py",
   "mimetype": "text/x-python",
   "name": "python",
   "nbconvert_exporter": "python",
   "pygments_lexer": "ipython3",
   "version": "3.6.3"
  }
 },
 "nbformat": 4,
 "nbformat_minor": 2
}
